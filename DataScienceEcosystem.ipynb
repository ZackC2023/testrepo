{
 "cells": [
  {
   "cell_type": "markdown",
   "id": "2d6b3e25",
   "metadata": {},
   "source": [
    "Exercise 2: Create markdown cell with title of the notebook"
   ]
  },
  {
   "cell_type": "markdown",
   "id": "6461b9a6",
   "metadata": {},
   "source": [
    "# Data Science Tools and Ecosystem"
   ]
  },
  {
   "cell_type": "markdown",
   "id": "a036f369",
   "metadata": {},
   "source": [
    "# Data Science Tools and Ecosystem"
   ]
  },
  {
   "cell_type": "markdown",
   "id": "6ff106c0",
   "metadata": {},
   "source": [
    "Exercise3: Create a markdown cell for an introduction"
   ]
  },
  {
   "cell_type": "markdown",
   "id": "62431f38",
   "metadata": {},
   "source": [
    "In this notebook, Data Science Tools and Ecosystem are summarized."
   ]
  },
  {
   "cell_type": "markdown",
   "id": "2d17f0ac",
   "metadata": {},
   "source": [
    "In this notebook, Data Science Tools and Ecosystem are summarized."
   ]
  },
  {
   "cell_type": "code",
   "execution_count": null,
   "id": "ac0f4f73",
   "metadata": {},
   "outputs": [],
   "source": [
    "Exercise 10 - Insert a markdown cell to list Objectives"
   ]
  },
  {
   "cell_type": "markdown",
   "id": "e5f3007b",
   "metadata": {},
   "source": [
    "**Objectives:**\n",
    "- python\n",
    "- R\n",
    "- SQL"
   ]
  },
  {
   "cell_type": "markdown",
   "id": "89f20792",
   "metadata": {},
   "source": [
    "**Objectives:**\n",
    "- python\n",
    "- R\n",
    "- SQL"
   ]
  },
  {
   "cell_type": "markdown",
   "id": "716797bc",
   "metadata": {},
   "source": [
    "Exercise 4 - Create a markdown cell to list data science languages"
   ]
  },
  {
   "cell_type": "markdown",
   "id": "2e274b80",
   "metadata": {},
   "source": [
    "Some of the popular languges that Data scientists use are:\n",
    "    1. python\n",
    "    2. R \n",
    "    3. SQL"
   ]
  },
  {
   "cell_type": "markdown",
   "id": "f509170b",
   "metadata": {},
   "source": [
    "Some of the popular languges that Data scientists use are:\n",
    "    1. python\n",
    "    2. R \n",
    "    3. SQL"
   ]
  },
  {
   "cell_type": "markdown",
   "id": "ec96af34",
   "metadata": {},
   "source": [
    "Exercise 5 - Create a markdown cell to list data science libraries"
   ]
  },
  {
   "cell_type": "markdown",
   "id": "e068336b",
   "metadata": {},
   "source": [
    "Some of the commonly used libraries used by Data Scientists include:\n",
    "    1. padas\n",
    "    2. numpy\n",
    "    3. matplotlib\n",
    "    4. seaborn\n",
    "    5. pytouch"
   ]
  },
  {
   "cell_type": "markdown",
   "id": "190d768c",
   "metadata": {},
   "source": [
    "Some of the commonly used libraries used by Data Scientists include:\n",
    "    1. padas\n",
    "    2. numpy\n",
    "    3. matplotlib\n",
    "    4. seaborn\n",
    "    5. pytouch"
   ]
  },
  {
   "cell_type": "markdown",
   "id": "84217a2b",
   "metadata": {},
   "source": [
    "Exercise 6 - Create a markdown cell with a table of Data Science tools"
   ]
  },
  {
   "cell_type": "markdown",
   "id": "6bfd6337",
   "metadata": {},
   "source": [
    "|Data Science Tools|\n",
    "---------------------------\n",
    "|Jupyther lab     |\n",
    "|R studio        |\n",
    "|Apache zeppelin   |"
   ]
  },
  {
   "cell_type": "markdown",
   "id": "66825835",
   "metadata": {},
   "source": [
    "|Data Science Tools|\n",
    "----------------------------\n",
    "|Jupyther lab      |\n",
    "|R studio          |\n",
    "|Apache zeppelin   |"
   ]
  },
  {
   "cell_type": "markdown",
   "id": "9605ed9d",
   "metadata": {},
   "source": [
    "Exercise 7 - Create a markdown cell introducing arithmetic expression examples"
   ]
  },
  {
   "cell_type": "markdown",
   "id": "3f19ae87",
   "metadata": {},
   "source": [
    "### Below are a few examples of evaluating arithmetic expressions in Python"
   ]
  },
  {
   "cell_type": "markdown",
   "id": "9220f45e",
   "metadata": {},
   "source": [
    "### Below are a few examples of evaluating arithmetic expressions in Python"
   ]
  },
  {
   "cell_type": "markdown",
   "id": "9b8be257",
   "metadata": {},
   "source": [
    "Exercise 8 - Create a code cell to multiply and add numbers"
   ]
  },
  {
   "cell_type": "code",
   "execution_count": 13,
   "id": "2967436a",
   "metadata": {},
   "outputs": [
    {
     "data": {
      "text/plain": [
       "17"
      ]
     },
     "execution_count": 13,
     "metadata": {},
     "output_type": "execute_result"
    }
   ],
   "source": [
    "#This a simple arithmetic expression to mutiply then add integers\n",
    "(3*4)+5"
   ]
  },
  {
   "cell_type": "markdown",
   "id": "795f1690",
   "metadata": {},
   "source": [
    "Exercise 9 - Create a code cell to convert minutes to hours"
   ]
  },
  {
   "cell_type": "code",
   "execution_count": 19,
   "id": "62092999",
   "metadata": {},
   "outputs": [
    {
     "name": "stdout",
     "output_type": "stream",
     "text": [
      "3.33\n"
     ]
    }
   ],
   "source": [
    "#This will convert 200 minutes to hours by diving by 60\n",
    "minutes = int(200)\n",
    "hours = float(minutes / 60)\n",
    "print(round(hours,2))"
   ]
  },
  {
   "cell_type": "markdown",
   "id": "2a9e1360",
   "metadata": {},
   "source": [
    "Exercise 11 - Create a markdown cell to indicate the Author's name"
   ]
  },
  {
   "cell_type": "markdown",
   "id": "a8aa8869",
   "metadata": {},
   "source": [
    "## Author\n",
    "Zack Chai"
   ]
  },
  {
   "cell_type": "markdown",
   "id": "bdb7cac1",
   "metadata": {},
   "source": [
    "## Author\n",
    "Zack Chai"
   ]
  }
 ],
 "metadata": {
  "kernelspec": {
   "display_name": "Python 3 (ipykernel)",
   "language": "python",
   "name": "python3"
  },
  "language_info": {
   "codemirror_mode": {
    "name": "ipython",
    "version": 3
   },
   "file_extension": ".py",
   "mimetype": "text/x-python",
   "name": "python",
   "nbconvert_exporter": "python",
   "pygments_lexer": "ipython3",
   "version": "3.11.4"
  }
 },
 "nbformat": 4,
 "nbformat_minor": 5
}
